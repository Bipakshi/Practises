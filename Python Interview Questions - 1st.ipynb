{
 "cells": [
  {
   "cell_type": "markdown",
   "id": "a748449f",
   "metadata": {},
   "source": [
    "### Q1. What is Python?\n",
    "\n",
    "Python is a high level, object oriented, interpreted programming language, which has inbuild libraries like, numpy, pandas, matplotbil etc to make data easy to interpret, analyse, visualize and manipulate."
   ]
  },
  {
   "cell_type": "markdown",
   "id": "a8b8cbf8",
   "metadata": {},
   "source": [
    "### Q2. Numpy \n",
    "This library is used to add support for large multi dimensional arrays and matrics, accompanied with a large collection of function to operate on these arrays."
   ]
  },
  {
   "cell_type": "markdown",
   "id": "23110e66",
   "metadata": {},
   "source": [
    "### Q3. Pandas\n",
    "\n",
    "This library is an inbuilt Python library for the purpose of data analysis and manipulation, also great tool for making dataframes."
   ]
  },
  {
   "cell_type": "markdown",
   "id": "b24df650",
   "metadata": {},
   "source": [
    "### Q4. What is the difference between list and tupple?"
   ]
  },
  {
   "cell_type": "markdown",
   "id": "f111df4d",
   "metadata": {},
   "source": [
    "Both are containers that can strore a set of data, however the major difference between the both is that:\n",
    "\n",
    "    1. Lists are mutable(editable) and tupples are non-mutable\n",
    "    \n",
    "    2. List are contained inside a square braket and tupple inside parantacis"
   ]
  },
  {
   "cell_type": "markdown",
   "id": "93bde7db",
   "metadata": {},
   "source": [
    "### Q5.  What are the key features of Python?"
   ]
  },
  {
   "cell_type": "markdown",
   "id": "d00e8874",
   "metadata": {},
   "source": [
    "Python is a high level, object oriented, interpreted programming language, which has inbuild libraries like, numpy, pandas, matplotbil etc to make data easy to interpret, analyse, visualize and manipulate.\n",
    "\n",
    "Some of the key features are:\n",
    "\n",
    "1. Python is an interpreted language which means, it is not required to compile Python before it is runned.\n",
    "\n",
    "2. Python is dynamically typed which means Python automatically understand the datatype and the variable. No requirement to declare it.\n",
    "\n",
    "3. Python is well suited for Object Oriented Programming, as it allows the defination of classes.\n",
    "\n",
    "4. In Python functions are first class objects. This means that they can be assigned to variables, returned from other functions and passed into functions. Classes are also first class objects.\n",
    "\n",
    "5. Python is specially desined with inbuilt libraries which makes coding easy and quick."
   ]
  },
  {
   "cell_type": "markdown",
   "id": "a0127382",
   "metadata": {},
   "source": [
    "### Q6. What type of language is Python? Programming or Scripting."
   ]
  },
  {
   "cell_type": "markdown",
   "id": "5275b84c",
   "metadata": {},
   "source": [
    "Python is best known as a programing language, however it is capable of scripting, hence it will be best to call Python as a general purpose programming language."
   ]
  },
  {
   "cell_type": "markdown",
   "id": "8c5feace",
   "metadata": {},
   "source": [
    "### Q7. Python an interpreted language. Explain?"
   ]
  },
  {
   "cell_type": "markdown",
   "id": "be9baf43",
   "metadata": {},
   "source": [
    "Python is an interpreted language, which means the source code of a Python program is converted into bytecode that is then executed by the Python virtual machine. ... Python code is fast to develop: As the code is not needed to be compiled and built, Python code can be readily changed and executed."
   ]
  },
  {
   "cell_type": "markdown",
   "id": "89dd68a1",
   "metadata": {},
   "source": [
    "### Q8. What is Pep 8?"
   ]
  },
  {
   "cell_type": "markdown",
   "id": "5b858347",
   "metadata": {},
   "source": [
    "PEP stands for Python Enhancement Proposal. It is a set of rules that specify how to format Python code for maximum readibility."
   ]
  },
  {
   "cell_type": "markdown",
   "id": "8bcb8609",
   "metadata": {},
   "source": [
    "### Q9. What are decorators in Python?"
   ]
  },
  {
   "cell_type": "markdown",
   "id": "638f33ad",
   "metadata": {},
   "source": [
    "Decorators are used to add some design patterns to a function without changing its structure. Decorators are generally defined before the function for enhancing. \n",
    "\n",
    "To apply decorator, we first define the decorator function, then write the function where the decorator is applied to. @ symbol is used before the decorator."
   ]
  },
  {
   "cell_type": "markdown",
   "id": "f5f6defe",
   "metadata": {},
   "source": [
    "### Q10. What are dict and list comprehension?"
   ]
  },
  {
   "cell_type": "markdown",
   "id": "574d7f51",
   "metadata": {},
   "source": [
    "Dictionary and List comprehension are another way to concise way to define dictionaries and list.\n",
    "\n",
    "Ex: List Comprehension"
   ]
  },
  {
   "cell_type": "code",
   "execution_count": 46,
   "id": "9976f895",
   "metadata": {},
   "outputs": [
    {
     "name": "stdout",
     "output_type": "stream",
     "text": [
      "1\n",
      "2\n",
      "3\n",
      "4\n"
     ]
    }
   ],
   "source": [
    "#List comprehension\n",
    "for i in range(1,5):\n",
    "    print(i)"
   ]
  },
  {
   "cell_type": "code",
   "execution_count": 47,
   "id": "128146c6",
   "metadata": {},
   "outputs": [
    {
     "name": "stdout",
     "output_type": "stream",
     "text": [
      "{0: 0, 1: 2, 2: 4, 3: 6, 4: 8, 5: 10, 6: 12, 7: 14, 8: 16, 9: 18}\n"
     ]
    }
   ],
   "source": [
    "#Dict comprehension\n",
    "dict={}\n",
    "\n",
    "for i in range(10):\n",
    "    dict[i]=2*i\n",
    "print(dict)"
   ]
  },
  {
   "cell_type": "markdown",
   "id": "661c97ab",
   "metadata": {},
   "source": [
    "### Q.11 What are the common built-in datatypes in Python?"
   ]
  },
  {
   "cell_type": "markdown",
   "id": "4a2eb952",
   "metadata": {},
   "source": [
    "The common built in data types in python are-\n",
    "\n",
    "Numbers– They include integers, floating point numbers, and complex numbers. eg. 1, 7.9,3+4i\n",
    "\n",
    "List– An ordered sequence of items is called a list. The elements of a list may belong to different data types. Eg. [5,’market’,2.4]\n",
    "\n",
    "Tuple– It is also an ordered sequence of elements. Unlike lists , tuples are immutable, which means they can’t be changed. Eg. (3,’tool’,1)\n",
    "\n",
    "String– A sequence of characters is called a string. They are declared within single or double quotes. Eg. “Sana”, ‘She is going to the market’, etc.\n",
    "\n",
    "Set– Sets are a collection of unique items that are not in order. Eg. {7,6,8}\n",
    "\n",
    "Dictionary– A dictionary stores values in key and value pairs where each value can be accessed through its key. The order of items is not important. Eg. {1:’apple’,2:’mango}\n",
    "\n",
    "Boolean– There are 2 boolean values- True and False."
   ]
  },
  {
   "cell_type": "markdown",
   "id": "0d05a849",
   "metadata": {},
   "source": [
    "### Q12. What is slicing in Python?"
   ]
  },
  {
   "cell_type": "markdown",
   "id": "7f245d67",
   "metadata": {},
   "source": [
    "Slicing is used to access parts of sequences like lists, tuples, and strings. The syntax of slicing is-[start:end:step]. The step can be omitted as well. When we write [start:end] this returns all the elements of the sequence from the start (inclusive) till the end-1 element. If the start or end element is negative i, it means the ith element from the end. The step indicates the jump or how many elements have to be skipped. Eg. if there is a list- [1,2,3,4,5,6,7,8]. Then [-1:2:2] will return elements starting from the last element till the third element by printing every second element.i.e. [8,6,4]."
   ]
  },
  {
   "cell_type": "markdown",
   "id": "2269558e",
   "metadata": {},
   "source": [
    "### Q13. What are Keywords in Python?"
   ]
  },
  {
   "cell_type": "markdown",
   "id": "8bc8e2c9",
   "metadata": {},
   "source": [
    "Keywords in python are reserved words that have special meaning.They are generally used to define type of variables. Keywords cannot be used for variable or function names. \n",
    "\n",
    "Example: And, Or, Not, If, Elif, Else, For, While etc"
   ]
  },
  {
   "cell_type": "markdown",
   "id": "178c0d2c",
   "metadata": {},
   "source": [
    "### Q14. What are Literals in Python and explain about different Literals"
   ]
  },
  {
   "cell_type": "markdown",
   "id": "c5ab1752",
   "metadata": {},
   "source": [
    "Ans: A literal in python source code represents a fixed value for primitive data types. There are 5 types of literals in python-\n",
    "\n",
    "String literals– A string literal is created by assigning some text enclosed in single or double quotes to a variable. To create multiline literals, assign the multiline text enclosed in triple quotes. Eg.name=”Tanya”\n",
    "\n",
    "A character literal– It is created by assigning a single character enclosed in double quotes. Eg. a=’t’\n",
    "Numeric literals– They include numeric values that can be either integer, floating point value, or a complex number. Eg. a=50\n",
    "\n",
    "Boolean literals– These can be 2 values- either True or False.\n",
    "\n",
    "Literal Collections– These are of 4 types-\n",
    "\n",
    "a) List collections-Eg. a=[1,2,3,’Amit’]\n",
    "\n",
    "             b) Tuple literals- Eg. a=(5,6,7,8)\n",
    "\n",
    "c) Dictionary literals- Eg. dict={1: ’apple’, 2: ’mango, 3: ’banana`’}\n",
    "\n",
    "d) Set literals- Eg. {“Tanya”, “Rohit”, “Mohan”}\n",
    "\n",
    "6. Special literal- Python has 1 special literal None which is used to return a null variable."
   ]
  },
  {
   "cell_type": "markdown",
   "id": "e670f55b",
   "metadata": {},
   "source": [
    "### Q15. How to combine dataframes in pandas?"
   ]
  },
  {
   "cell_type": "markdown",
   "id": "0a2415b0",
   "metadata": {},
   "source": [
    "The dataframes in python can be combined in the following ways-\n",
    "\n",
    "1. Concatenating them by stacking the 2 dataframes vertically.\n",
    "2. Concatenating them by stacking the 2 dataframes horizontally.\n",
    "3. Combining them on a common column. This is referred to as joining.\n",
    "\n",
    "The concat() function is used to concatenate two dataframes. Its syntax is- pd.concat([dataframe1, dataframe2]).\n",
    "\n",
    "Dataframes are joined together on a common column called a key. When we combine all the rows in dataframe it is union and the join used is outer join. While, when we combine the common rows or intersection, the join used is the inner join. Its syntax is- pd.concat([dataframe1, dataframe2], axis=’axis’, join=’type_of_join)"
   ]
  },
  {
   "cell_type": "code",
   "execution_count": null,
   "id": "aac4d053",
   "metadata": {},
   "outputs": [],
   "source": []
  }
 ],
 "metadata": {
  "kernelspec": {
   "display_name": "Python 3",
   "language": "python",
   "name": "python3"
  },
  "language_info": {
   "codemirror_mode": {
    "name": "ipython",
    "version": 3
   },
   "file_extension": ".py",
   "mimetype": "text/x-python",
   "name": "python",
   "nbconvert_exporter": "python",
   "pygments_lexer": "ipython3",
   "version": "3.8.8"
  }
 },
 "nbformat": 4,
 "nbformat_minor": 5
}
